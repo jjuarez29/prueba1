{
  "nbformat": 4,
  "nbformat_minor": 0,
  "metadata": {
    "colab": {
      "provenance": [],
      "authorship_tag": "ABX9TyOaESqycoHZ9zJg+wBZgzLN",
      "include_colab_link": true
    },
    "kernelspec": {
      "name": "python3",
      "display_name": "Python 3"
    },
    "language_info": {
      "name": "python"
    }
  },
  "cells": [
    {
      "cell_type": "markdown",
      "metadata": {
        "id": "view-in-github",
        "colab_type": "text"
      },
      "source": [
        "<a href=\"https://colab.research.google.com/github/jjuarez29/prueba1/blob/main/SisExperto1.ipynb\" target=\"_parent\"><img src=\"https://colab.research.google.com/assets/colab-badge.svg\" alt=\"Open In Colab\"/></a>"
      ]
    },
    {
      "cell_type": "code",
      "execution_count": 2,
      "metadata": {
        "colab": {
          "base_uri": "https://localhost:8080/"
        },
        "id": "UauY7HdAKxX1",
        "outputId": "e4ffab67-fe7e-4411-a559-4d521c97d0de"
      },
      "outputs": [
        {
          "output_type": "stream",
          "name": "stdout",
          "text": [
            "Ingrese los síntomas de la planta: hojas marchitas,suelo seco\n",
            "Diagnóstico: Necesita riego\n"
          ]
        }
      ],
      "source": [
        "# Ejemplo simplificado de un sistema experto\n",
        "\n",
        "def diagnosticar_planta(sintomas):\n",
        "    if \"manchas amarillas\" in sintomas and \"hojas marchitas\" not in sintomas:\n",
        "        return \"Deficiencia de nutrientes\"\n",
        "    elif \"hojas marchitas\" in sintomas and \"suelo seco\" in sintomas:\n",
        "        return \"Necesita riego\"\n",
        "    else:\n",
        "        return \"No se puede determinar la enfermedad\"\n",
        "\n",
        "# Uso del sistema experto\n",
        "sintomas = input(\"Ingrese los síntomas de la planta: \").split(',')\n",
        "diagnostico = diagnosticar_planta(sintomas)\n",
        "print(f\"Diagnóstico: {diagnostico}\")\n"
      ]
    }
  ]
}