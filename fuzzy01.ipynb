{
  "nbformat": 4,
  "nbformat_minor": 0,
  "metadata": {
    "colab": {
      "provenance": [],
      "authorship_tag": "ABX9TyOUlQDPNRnQQZMCjiSj8s14",
      "include_colab_link": true
    },
    "kernelspec": {
      "name": "python3",
      "display_name": "Python 3"
    },
    "language_info": {
      "name": "python"
    }
  },
  "cells": [
    {
      "cell_type": "markdown",
      "metadata": {
        "id": "view-in-github",
        "colab_type": "text"
      },
      "source": [
        "<a href=\"https://colab.research.google.com/github/jjuarez29/prueba1/blob/main/fuzzy01.ipynb\" target=\"_parent\"><img src=\"https://colab.research.google.com/assets/colab-badge.svg\" alt=\"Open In Colab\"/></a>"
      ]
    },
    {
      "cell_type": "code",
      "execution_count": null,
      "metadata": {
        "colab": {
          "base_uri": "https://localhost:8080/"
        },
        "id": "6NVWfir6SXkh",
        "outputId": "68efff38-4cb7-4ffb-e5f3-e5a6cf02d218"
      },
      "outputs": [
        {
          "output_type": "stream",
          "name": "stdout",
          "text": [
            "Requirement already satisfied: scikit-fuzzy in /usr/local/lib/python3.10/dist-packages (0.4.2)\n",
            "Requirement already satisfied: numpy>=1.6.0 in /usr/local/lib/python3.10/dist-packages (from scikit-fuzzy) (1.23.5)\n",
            "Requirement already satisfied: scipy>=0.9.0 in /usr/local/lib/python3.10/dist-packages (from scikit-fuzzy) (1.11.3)\n",
            "Requirement already satisfied: networkx>=1.9.0 in /usr/local/lib/python3.10/dist-packages (from scikit-fuzzy) (3.2.1)\n",
            "Aumentar ligeramente la temperatura\n",
            "resultado 4.166666666666669\n",
            "Aumentar ligeramente la temperatura\n"
          ]
        }
      ],
      "source": [
        "!pip install scikit-fuzzy\n",
        "import numpy as np\n",
        "import skfuzzy as fuzz\n",
        "from skfuzzy import control as ctrl\n",
        "def interpretar_ajuste(valor):\n",
        "    if valor < -25:\n",
        "        return \"Disminuir significativamente la temperatura\"\n",
        "    elif -25 <= valor < 0:\n",
        "        return \"Disminuir ligeramente la temperatura\"\n",
        "    elif 0 <= valor < 25:\n",
        "        return \"Aumentar ligeramente la temperatura\"\n",
        "    else:\n",
        "        return \"Aumentar significativamente la temperatura\"\n",
        "\n",
        "# Usar la función para interpretar el resultado del sistema difuso\n",
        "ajuste_texto = interpretar_ajuste(sistema.output['ajuste'])\n",
        "print(ajuste_texto)\n",
        "\n",
        "# Crear las variables del universo\n",
        "temperatura = ctrl.Antecedent(np.arange(0, 101, 1), 'temperatura')\n",
        "humedad = ctrl.Antecedent(np.arange(0, 101, 1), 'humedad')\n",
        "ajuste = ctrl.Consequent(np.arange(-50, 51, 1), 'ajuste')\n",
        "\n",
        "# Poblar el universo con funciones de membresía difusa\n",
        "temperatura['frío'] = fuzz.trimf(temperatura.universe, [0, 0, 50])\n",
        "temperatura['cálido'] = fuzz.trimf(temperatura.universe, [0, 50, 100])\n",
        "temperatura['caliente'] = fuzz.trimf(temperatura.universe, [50, 100, 100])\n",
        "\n",
        "humedad['seca'] = fuzz.trimf(humedad.universe, [0, 0, 50])\n",
        "humedad['ideal'] = fuzz.trimf(humedad.universe, [0, 50, 100])\n",
        "humedad['húmeda'] = fuzz.trimf(humedad.universe, [50, 100, 100])\n",
        "\n",
        "ajuste['disminuir'] = fuzz.trimf(ajuste.universe, [-50, -25, 0])\n",
        "ajuste['mantener'] = fuzz.trimf(ajuste.universe, [-25, 0, 25])\n",
        "ajuste['aumentar'] = fuzz.trimf(ajuste.universe, [0, 25, 50])\n",
        "\n",
        "# Reglas difusas\n",
        "regla1 = ctrl.Rule(temperatura['frío'] | humedad['seca'], ajuste['aumentar'])\n",
        "regla2 = ctrl.Rule(temperatura['cálido'], ajuste['mantener'])\n",
        "regla3 = ctrl.Rule(temperatura['caliente'] | humedad['húmeda'], ajuste['disminuir'])\n",
        "\n",
        "# Sistema de control y simulación\n",
        "sistema_control = ctrl.ControlSystem([regla1, regla2, regla3])\n",
        "sistema = ctrl.ControlSystemSimulation(sistema_control)\n",
        "\n",
        "# Pasar entradas al sistema de control\n",
        "sistema.input['temperatura'] = 30\n",
        "sistema.input['humedad'] = 60\n",
        "\n",
        "# Computar el resultado\n",
        "sistema.compute()\n",
        "print(\"resultado\",sistema.output['ajuste'])\n",
        "print(interpretar_ajuste(sistema.output['ajuste']))\n"
      ]
    }
  ]
}