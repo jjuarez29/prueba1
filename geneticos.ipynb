{
  "nbformat": 4,
  "nbformat_minor": 0,
  "metadata": {
    "colab": {
      "provenance": [],
      "authorship_tag": "ABX9TyNfxbGKy7WGiwLdNY7BY9kS",
      "include_colab_link": true
    },
    "kernelspec": {
      "name": "python3",
      "display_name": "Python 3"
    },
    "language_info": {
      "name": "python"
    }
  },
  "cells": [
    {
      "cell_type": "markdown",
      "metadata": {
        "id": "view-in-github",
        "colab_type": "text"
      },
      "source": [
        "<a href=\"https://colab.research.google.com/github/jjuarez29/prueba1/blob/main/geneticos.ipynb\" target=\"_parent\"><img src=\"https://colab.research.google.com/assets/colab-badge.svg\" alt=\"Open In Colab\"/></a>"
      ]
    },
    {
      "cell_type": "code",
      "execution_count": 1,
      "metadata": {
        "colab": {
          "base_uri": "https://localhost:8080/"
        },
        "id": "von5FraPfYcU",
        "outputId": "0f3d8a36-5f1c-4d2b-9290-9d810009b469"
      },
      "outputs": [
        {
          "output_type": "stream",
          "name": "stdout",
          "text": [
            "El mejor individuo en binario: 11111, que corresponde a 31 en decimal con una aptitud de 961\n",
            "Generación 50: Mejor Individuo = 11111 con Aptitud = 961\n",
            "El mejor individuo en forma decimal: 31\n"
          ]
        }
      ],
      "source": [
        "import numpy as np\n",
        "\n",
        "def binario_a_decimal(binario):\n",
        "    return int(binario, 2)\n",
        "\n",
        "def calcular_aptitud(individuo):\n",
        "    x = binario_a_decimal(individuo)\n",
        "    return x ** 2\n",
        "\n",
        "def seleccionar(poblacion, aptitudes):\n",
        "    return np.random.choice(poblacion, size=len(poblacion), replace=True, p=aptitudes / np.sum(aptitudes))\n",
        "\n",
        "def cruzar(padre, madre):\n",
        "    punto_cruce = np.random.randint(1, len(padre))\n",
        "    hijo = padre[:punto_cruce] + madre[punto_cruce:]\n",
        "    return hijo\n",
        "\n",
        "def mutar(individuo, tasa_mutacion=0.01):\n",
        "    individuo_mutado = ''.join('1' if (bit == '0' and np.random.rand() < tasa_mutacion) else '0' if (bit == '1' and np.random.rand() < tasa_mutacion) else bit for bit in individuo)\n",
        "    return individuo_mutado\n",
        "\n",
        "# Parámetros del algoritmo\n",
        "NUMERO_GENERACIONES = 50\n",
        "TASA_MUTACION = 0.05\n",
        "TAMANIO_POBLACION = 10\n",
        "\n",
        "# Generar población inicial\n",
        "poblacion = [''.join(np.random.choice(['0', '1']) for _ in range(5)) for _ in range(TAMANIO_POBLACION)]\n",
        "\n",
        "# Evolución\n",
        "for _ in range(NUMERO_GENERACIONES):\n",
        "    aptitudes = np.array([calcular_aptitud(individuo) for individuo in poblacion])\n",
        "    poblacion = seleccionar(poblacion, aptitudes)\n",
        "    poblacion = [cruzar(poblacion[i], poblacion[(i+1) % TAMANIO_POBLACION]) for i in range(TAMANIO_POBLACION)]\n",
        "    poblacion = [mutar(individuo, TASA_MUTACION) for individuo in poblacion]\n",
        "\n",
        "\n",
        "# Mejor solución\n",
        "mejor_individuo = max(poblacion, key=lambda individuo: calcular_aptitud(individuo))\n",
        "mejor_aptitud = calcular_aptitud(mejor_individuo)\n",
        "\n",
        "# Convertir el mejor individuo a su valor decimal\n",
        "mejor_valor = binario_a_decimal(mejor_individuo)\n",
        "print(f\"El mejor individuo en binario: {mejor_individuo}, que corresponde a {mejor_valor} en decimal con una aptitud de {mejor_aptitud}\")\n",
        "\n",
        "# Continuación del código\n",
        "# Calcular aptitud para cada individuo en la población\n",
        "aptitudes = np.array([calcular_aptitud(individuo) for individuo in poblacion])\n",
        "\n",
        "# Seleccionar el mejor individuo\n",
        "mejor_individuo = poblacion[np.argmax(aptitudes)]\n",
        "mejor_aptitud = max(aptitudes)\n",
        "\n",
        "print(f\"Generación {_+1}: Mejor Individuo = {mejor_individuo} con Aptitud = {mejor_aptitud}\")\n",
        "\n",
        "# Convertir el mejor individuo a su valor decimal\n",
        "mejor_valor = binario_a_decimal(mejor_individuo)\n",
        "print(f\"El mejor individuo en forma decimal: {mejor_valor}\")\n",
        "\n"
      ]
    }
  ]
}